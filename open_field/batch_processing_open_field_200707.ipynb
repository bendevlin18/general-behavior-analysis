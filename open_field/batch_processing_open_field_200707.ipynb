{
 "cells": [
  {
   "cell_type": "markdown",
   "metadata": {},
   "source": [
    "## Master Notebook for batch processing Ethovision Open Field Output"
   ]
  },
  {
   "cell_type": "code",
   "execution_count": 5,
   "metadata": {},
   "outputs": [],
   "source": [
    "import os\n",
    "import numpy as np\n",
    "import pandas as pd"
   ]
  },
  {
   "cell_type": "code",
   "execution_count": 6,
   "metadata": {},
   "outputs": [],
   "source": [
    "######## ENTER DIRECTORY ADDRESS OF ALL THE XLSX FILES HERE AS A STRING ###########\n",
    "\n",
    "direc = 'E:\\\\DATA\\\\alexis_open_field'\n",
    "\n",
    "### After this cell, nothing should change, as long as the format of all of the excel files is the same, and they are all located in the directory given above"
   ]
  },
  {
   "cell_type": "code",
   "execution_count": 7,
   "metadata": {},
   "outputs": [],
   "source": [
    "## grabbing a list of all files, as well as a list of just the excel files in the given directory\n",
    "\n",
    "files = os.listdir(direc)\n",
    "\n",
    "excel_files = []\n",
    "\n",
    "for file in files:\n",
    "    if '.xlsx' in file:\n",
    "        excel_files = np.append(file, excel_files)"
   ]
  },
  {
   "cell_type": "code",
   "execution_count": 16,
   "metadata": {
    "tags": []
   },
   "outputs": [
    {
     "output_type": "stream",
     "name": "stdout",
     "text": "Current metadata:  [[14 'M' 'LFD']]\nCurrent metadata:  [[13 'M' 'LFD']]\nCurrent metadata:  [[12 'M' 'LFD']]\nCurrent metadata:  [[500 'F' 'HFD']]\nCurrent metadata:  [['833' 'M' 'LFD']]\nCurrent metadata:  [['834' 'M' 'LFD']]\nCurrent metadata:  [['835' 'M' 'LFD']]\nCurrent metadata:  []\n"
    }
   ],
   "source": [
    "## this is the final dataframe that allows combination across excel files\n",
    "final_df = pd.DataFrame(columns = ['Avg Distance Moved (cm)', 'Avg Velocity (cm/s)', 'Percent in Zone', 'ID', 'Sex', 'Tx'])\n",
    "\n",
    "for file in excel_files:\n",
    "\n",
    "    ## use the special excel pandas function to read in the .xlsx file (this allows us to access the sheets individually)\n",
    "    xls = pd.ExcelFile(direc + '\\\\' + file)\n",
    "    \n",
    "    ## i can use this method to retrieve the list of sheet names! this will be useful for iterating through\n",
    "    sheet_names = xls.sheet_names\n",
    "    \n",
    "    ## create the empty output dataframe that will soon contain all our desired information!\n",
    "    output_df = pd.DataFrame(columns = ['Avg Distance Moved (cm)', 'Avg Velocity (cm/s)', 'Percent in Zone', 'ID', 'Sex', 'Tx'])\n",
    "\n",
    "    for sheet in sheet_names:\n",
    "\n",
    "        df = pd.read_excel(xls, sheet, header = 38)\n",
    "        df.drop(0, axis = 0, inplace = True)\n",
    "        df.replace('-', 0, inplace = True)\n",
    "\n",
    "        ## collecting the metadata output from the Ethovision data table\n",
    "\n",
    "        df_meta = pd.read_excel(xls, sheet, index_col = 0)\n",
    "        metadata = df_meta.loc[['Animal ID', 'Sex', 'Condition']].dropna(axis = 1).T.values\n",
    "\n",
    "        print('Current metadata: ', metadata)\n",
    "        if len(metadata)>0:\n",
    "            ## my goal is to take the raw data from the open field tests and analzye each one by first one minute, \n",
    "            ## first 2 minutes, and first 5 minutes (ethovision spits out just averages for the whole 10 min\n",
    "\n",
    "            ## to keep things clean, I am going to start off by grabbing the index locations for the three time points\n",
    "            one_min = df[df['Recording time'] == 60].index[0]\n",
    "            two_min = df[df['Recording time'] == 120].index[0]\n",
    "            five_min = df[df['Recording time'] == 300].index[0]\n",
    "\n",
    "            ## i just want total distance moved, \n",
    "\n",
    "            distance_moved = []\n",
    "\n",
    "            distance_moved.append(df['Distance moved'].values[0:one_min].mean())\n",
    "            distance_moved.append(df['Distance moved'].values[0:two_min].mean())\n",
    "            distance_moved.append(df['Distance moved'].values[0:five_min].mean())\n",
    "\n",
    "            ## average velocity,\n",
    "\n",
    "            velocity = []\n",
    "\n",
    "            velocity.append(df['Velocity'].values[0:one_min].mean())\n",
    "            velocity.append(df['Velocity'].values[0:two_min].mean())\n",
    "            velocity.append(df['Velocity'].values[0:five_min].mean())\n",
    "\n",
    "            ## and maybe percent of time in zone 1 (which is the center)\n",
    "\n",
    "            zone_1 = []\n",
    "\n",
    "            zone_1.append(df['In zone'].values[0:one_min].sum()/one_min)\n",
    "            zone_1.append(df['In zone'].values[0:two_min].sum()/two_min)\n",
    "            zone_1.append(df['In zone'].values[0:five_min].sum()/five_min)\n",
    "\n",
    "            mini_df = pd.DataFrame([distance_moved, velocity, zone_1], index = ['Avg Distance Moved (cm)', 'Avg Velocity (cm/s)', 'Percent in Zone'], \n",
    "                                columns = ['1 Min', '2 Min', '5 Min']).T\n",
    "\n",
    "            mini_df['ID'] = metadata[0][0]\n",
    "            mini_df['Sex'] = metadata[0][1]\n",
    "            mini_df['Tx'] = metadata[0][2]\n",
    "\n",
    "            output_df = output_df.append(mini_df)\n",
    "        \n",
    "    final_df = final_df.append(output_df)"
   ]
  },
  {
   "cell_type": "code",
   "execution_count": 36,
   "metadata": {},
   "outputs": [],
   "source": [
    "## exporting the final_df for use in another python script/excel/R\n",
    "## the code is written to save the output file into the same directory as the excel outputs, but you can change this\n",
    "\n",
    "final_df.to_csv(direc + '\\\\' + 'open_field_output.csv')"
   ]
  },
  {
   "cell_type": "code",
   "execution_count": null,
   "metadata": {},
   "outputs": [],
   "source": []
  }
 ],
 "metadata": {
  "kernelspec": {
   "display_name": "Python 3",
   "language": "python",
   "name": "python3"
  },
  "language_info": {
   "codemirror_mode": {
    "name": "ipython",
    "version": 3
   },
   "file_extension": ".py",
   "mimetype": "text/x-python",
   "name": "python",
   "nbconvert_exporter": "python",
   "pygments_lexer": "ipython3",
   "version": "3.7.6"
  }
 },
 "nbformat": 4,
 "nbformat_minor": 4
}